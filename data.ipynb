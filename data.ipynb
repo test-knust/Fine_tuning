{
 "cells": [
  {
   "cell_type": "code",
   "execution_count": 67,
   "id": "adacb6ad",
   "metadata": {},
   "outputs": [],
   "source": [
    "import pandas as pd\n",
    "import datasets\n",
    "\n",
    "from pprint import pprint\n",
    "from transformers import AutoTokenizer"
   ]
  },
  {
   "cell_type": "code",
   "execution_count": 68,
   "id": "12f0ff7f",
   "metadata": {},
   "outputs": [],
   "source": [
    "from transformers import AutoModelForSeq2SeqLM\n",
    "\n",
    "\n",
    "MODEL_NAME = \"google/flan-t5-small\"\n",
    "FINETUNED_MODEL_DIR = \"./ghana-finetuned-model\"\n",
    "\n",
    "tokenizer = AutoTokenizer.from_pretrained(MODEL_NAME)\n",
    "list_texts = \"Hi, how are you?\"\n"
   ]
  },
  {
   "cell_type": "code",
   "execution_count": 69,
   "id": "3756d997",
   "metadata": {},
   "outputs": [
    {
     "name": "stdout",
     "output_type": "stream",
     "text": [
      "Encoded several texts:  [2018, 6, 149, 33, 25, 58, 1]\n",
      "Decoded tokens back into text:  Hi, how are you?</s>\n"
     ]
    }
   ],
   "source": [
    "text = \"Hi, how are you?\"\n",
    "encoded_text = tokenizer(text)[\"input_ids\"]\n",
    "print(\"Encoded several texts: \", encoded_text)\n",
    "decoded_text = tokenizer.decode(encoded_text)\n",
    "print(\"Decoded tokens back into text: \", decoded_text)"
   ]
  },
  {
   "cell_type": "code",
   "execution_count": 80,
   "id": "2d089a8e",
   "metadata": {},
   "outputs": [
    {
     "name": "stdout",
     "output_type": "stream",
     "text": [
      "Using padding:  [[2018, 6, 149, 33, 25, 58, 1], [27, 31, 51, 207, 1, 1, 1], [2163, 1, 1, 1, 1, 1, 1]]\n"
     ]
    }
   ],
   "source": [
    "list_texts = [\"Hi, how are you?\", \"I'm good\", \"Yes\"]\n",
    "tokenizer.pad_token = tokenizer.eos_token \n",
    "encoded_texts_longest = tokenizer(list_texts, padding=True)\n",
    "print(\"Using padding: \", encoded_texts_longest[\"input_ids\"])"
   ]
  },
  {
   "cell_type": "code",
   "execution_count": 82,
   "id": "809a73ef",
   "metadata": {},
   "outputs": [
    {
     "name": "stdout",
     "output_type": "stream",
     "text": [
      "Using truncation:  [[2018, 6, 149, 33, 1], [27, 31, 51, 207, 1], [2163, 1]]\n"
     ]
    }
   ],
   "source": [
    "encoded_texts_truncation = tokenizer(list_texts, max_length=5, truncation=True)\n",
    "print(\"Using truncation: \", encoded_texts_truncation[\"input_ids\"])"
   ]
  },
  {
   "cell_type": "code",
   "execution_count": 83,
   "id": "be918ba3",
   "metadata": {},
   "outputs": [
    {
     "name": "stdout",
     "output_type": "stream",
     "text": [
      "Using left-side truncation:  [[25, 58, 1], [51, 207, 1], [2163, 1]]\n"
     ]
    }
   ],
   "source": [
    "tokenizer.truncation_side = \"left\"\n",
    "encoded_texts_truncation_left = tokenizer(list_texts, max_length=3, truncation=True)\n",
    "print(\"Using left-side truncation: \", encoded_texts_truncation_left[\"input_ids\"])"
   ]
  },
  {
   "cell_type": "code",
   "execution_count": 84,
   "id": "d0561454",
   "metadata": {},
   "outputs": [
    {
     "name": "stdout",
     "output_type": "stream",
     "text": [
      "Using both padding and truncation:  [[25, 58, 1], [51, 207, 1], [2163, 1, 1]]\n"
     ]
    }
   ],
   "source": [
    "encoded_texts_both = tokenizer(list_texts, max_length=3, truncation=True, padding=True)\n",
    "print(\"Using both padding and truncation: \", encoded_texts_both[\"input_ids\"])"
   ]
  },
  {
   "cell_type": "code",
   "execution_count": 85,
   "id": "83b4398e",
   "metadata": {},
   "outputs": [
    {
     "name": "stdout",
     "output_type": "stream",
     "text": [
      "Tokenizing dataset...\n",
      "Tokenized dataset sample:\n",
      "Number of examples: 111\n",
      "\n",
      "First example:\n",
      "{'answer': 'March 6, 1957',\n",
      " 'attention_mask': [1, 1, 1, 1, 1, 1, 1, 1, 1, 1, 0, 0, 0, 0, 0, 0, 0, 0, 0],\n",
      " 'input_ids': [366,\n",
      "               410,\n",
      "               18406,\n",
      "               2485,\n",
      "               12315,\n",
      "               58,\n",
      "               1332,\n",
      "               8580,\n",
      "               24011,\n",
      "               1,\n",
      "               1,\n",
      "               1,\n",
      "               1,\n",
      "               1,\n",
      "               1,\n",
      "               1,\n",
      "               1,\n",
      "               1,\n",
      "               1],\n",
      " 'question': 'When did Ghana gain independence?'}\n"
     ]
    }
   ],
   "source": [
    "def tokenize_function(examples):\n",
    "    # When batched=True, examples contains lists of questions and answers\n",
    "    if \"question\" in examples and \"answer\" in examples:\n",
    "        # Combine each question with its answer\n",
    "        texts = [q + \" \" + a for q, a in zip(examples[\"question\"], examples[\"answer\"])]\n",
    "    elif \"input\" in examples and \"output\" in examples:\n",
    "        texts = [i + \" \" + o for i, o in zip(examples[\"input\"], examples[\"output\"])]\n",
    "    else:\n",
    "        texts = examples[\"text\"]\n",
    "\n",
    "    tokenizer.pad_token = tokenizer.eos_token\n",
    "    \n",
    "    # Tokenize all texts\n",
    "    tokenized_inputs = tokenizer(\n",
    "        texts,\n",
    "        padding=True,\n",
    "        truncation=True,\n",
    "        max_length=512,  # Set a reasonable max length\n",
    "        return_tensors=None  # Return lists, not tensors for dataset.map\n",
    "    )\n",
    "\n",
    "    return tokenized_inputs\n",
    "\n",
    "print(\"Tokenizing dataset...\")\n",
    "# Use 'json' for JSONL files, not 'csv'\n",
    "dataset = datasets.load_dataset(\"json\", data_files=\"test/ghana_qa.json\")\n",
    "tokenized_dataset = dataset.map(tokenize_function, batched=True)\n",
    "print(\"Tokenized dataset sample:\")\n",
    "print(f\"Number of examples: {len(tokenized_dataset['train'])}\")\n",
    "print(f\"\\nFirst example:\")\n",
    "pprint(tokenized_dataset[\"train\"][0])"
   ]
  },
  {
   "cell_type": "markdown",
   "id": "d8134c72",
   "metadata": {},
   "source": [
    "# Prepare Model for Fine-Tuning\n",
    "Now we'll load the model and configure it for fine-tuning with LoRA (Low-Rank Adaptation)"
   ]
  },
  {
   "cell_type": "code",
   "execution_count": 86,
   "id": "061d7e5c",
   "metadata": {},
   "outputs": [
    {
     "name": "stdout",
     "output_type": "stream",
     "text": [
      "trainable params: 1,376,256 || all params: 78,337,408 || trainable%: 1.7568\n",
      "\n",
      "Model prepared for fine-tuning!\n"
     ]
    }
   ],
   "source": [
    "from transformers import AutoModelForSeq2SeqLM, TrainingArguments, Trainer\n",
    "from peft import LoraConfig, get_peft_model, TaskType\n",
    "import numpy as np\n",
    "\n",
    "# Load the base model\n",
    "model = AutoModelForSeq2SeqLM.from_pretrained(MODEL_NAME)\n",
    "\n",
    "# Configure LoRA\n",
    "lora_config = LoraConfig(\n",
    "    r=16,  # Rank of the low-rank matrices\n",
    "    lora_alpha=32,  # Scaling factor\n",
    "    target_modules=[\"q\", \"v\", \"k\", \"o\"],  # Which layers to apply LoRA to\n",
    "    lora_dropout=0.05,\n",
    "    bias=\"none\",\n",
    "    task_type=TaskType.SEQ_2_SEQ_LM\n",
    ")\n",
    "\n",
    "# Apply LoRA to the model\n",
    "model = get_peft_model(model, lora_config)\n",
    "model.print_trainable_parameters()\n",
    "print(\"\\nModel prepared for fine-tuning!\")"
   ]
  },
  {
   "cell_type": "markdown",
   "id": "90972402",
   "metadata": {},
   "source": [
    "# Prepare Training Data\n",
    "We need to preprocess the dataset properly for Seq2Seq training with input_ids and labels"
   ]
  },
  {
   "cell_type": "code",
   "execution_count": 87,
   "id": "30d5d56f",
   "metadata": {},
   "outputs": [
    {
     "name": "stdout",
     "output_type": "stream",
     "text": [
      "Preprocessing dataset for training...\n",
      "Processed dataset: DatasetDict({\n",
      "    train: Dataset({\n",
      "        features: ['input_ids', 'attention_mask', 'labels'],\n",
      "        num_rows: 111\n",
      "    })\n",
      "})\n",
      "\n",
      "Sample preprocessed data:\n",
      "Input IDs length: 128\n",
      "Labels length: 128\n"
     ]
    }
   ],
   "source": [
    "def preprocess_function(examples):\n",
    "    \"\"\"Preprocess data for Seq2Seq training\"\"\"\n",
    "    # Tokenize inputs (questions)\n",
    "    model_inputs = tokenizer(\n",
    "        examples[\"question\"],\n",
    "        max_length=128,\n",
    "        truncation=True,\n",
    "        padding=\"max_length\"\n",
    "    )\n",
    "    \n",
    "    # Tokenize targets (answers)\n",
    "    labels = tokenizer(\n",
    "        examples[\"answer\"],\n",
    "        max_length=128,\n",
    "        truncation=True,\n",
    "        padding=\"max_length\"\n",
    "    )\n",
    "    \n",
    "    # Replace padding token id with -100 so it's ignored in loss calculation\n",
    "    labels[\"input_ids\"] = [\n",
    "        [(label if label != tokenizer.pad_token_id else -100) for label in labels_example]\n",
    "        for labels_example in labels[\"input_ids\"]\n",
    "    ]\n",
    "    \n",
    "    model_inputs[\"labels\"] = labels[\"input_ids\"]\n",
    "    return model_inputs\n",
    "\n",
    "# Apply preprocessing\n",
    "print(\"Preprocessing dataset for training...\")\n",
    "processed_dataset = dataset.map(preprocess_function, batched=True, remove_columns=dataset[\"train\"].column_names)\n",
    "print(f\"Processed dataset: {processed_dataset}\")\n",
    "print(f\"\\nSample preprocessed data:\")\n",
    "print(f\"Input IDs length: {len(processed_dataset['train'][0]['input_ids'])}\")\n",
    "print(f\"Labels length: {len(processed_dataset['train'][0]['labels'])}\")"
   ]
  },
  {
   "cell_type": "markdown",
   "id": "7c320b0f",
   "metadata": {},
   "source": [
    "# Train the Model\n",
    "Configure training arguments and start fine-tuning"
   ]
  },
  {
   "cell_type": "code",
   "execution_count": 88,
   "id": "b6db8753",
   "metadata": {},
   "outputs": [
    {
     "name": "stderr",
     "output_type": "stream",
     "text": [
      "/tmp/ipykernel_213835/1297651915.py:35: FutureWarning: `tokenizer` is deprecated and will be removed in version 5.0.0 for `Trainer.__init__`. Use `processing_class` instead.\n",
      "  trainer = Trainer(\n",
      "The tokenizer has new PAD/BOS/EOS tokens that differ from the model config and generation config. The model config and generation config were aligned accordingly, being updated with the tokenizer's values. Updated tokens: {'pad_token_id': 1}.\n"
     ]
    },
    {
     "name": "stdout",
     "output_type": "stream",
     "text": [
      "Starting training...\n",
      "==================================================\n"
     ]
    },
    {
     "name": "stderr",
     "output_type": "stream",
     "text": [
      "/home/ivanppp/Training/.venv/lib/python3.13/site-packages/torch/utils/data/dataloader.py:668: UserWarning: 'pin_memory' argument is set as true but no accelerator is found, then device pinned memory won't be used.\n",
      "  warnings.warn(warn_msg)\n"
     ]
    },
    {
     "data": {
      "text/html": [
       "\n",
       "    <div>\n",
       "      \n",
       "      <progress value='140' max='140' style='width:300px; height:20px; vertical-align: middle;'></progress>\n",
       "      [140/140 02:57, Epoch 5/5]\n",
       "    </div>\n",
       "    <table border=\"1\" class=\"dataframe\">\n",
       "  <thead>\n",
       " <tr style=\"text-align: left;\">\n",
       "      <th>Step</th>\n",
       "      <th>Training Loss</th>\n",
       "    </tr>\n",
       "  </thead>\n",
       "  <tbody>\n",
       "    <tr>\n",
       "      <td>10</td>\n",
       "      <td>4.610300</td>\n",
       "    </tr>\n",
       "    <tr>\n",
       "      <td>20</td>\n",
       "      <td>3.536800</td>\n",
       "    </tr>\n",
       "    <tr>\n",
       "      <td>30</td>\n",
       "      <td>2.592000</td>\n",
       "    </tr>\n",
       "    <tr>\n",
       "      <td>40</td>\n",
       "      <td>1.739000</td>\n",
       "    </tr>\n",
       "    <tr>\n",
       "      <td>50</td>\n",
       "      <td>0.944700</td>\n",
       "    </tr>\n",
       "    <tr>\n",
       "      <td>60</td>\n",
       "      <td>0.933400</td>\n",
       "    </tr>\n",
       "    <tr>\n",
       "      <td>70</td>\n",
       "      <td>1.033100</td>\n",
       "    </tr>\n",
       "    <tr>\n",
       "      <td>80</td>\n",
       "      <td>0.622900</td>\n",
       "    </tr>\n",
       "    <tr>\n",
       "      <td>90</td>\n",
       "      <td>0.739800</td>\n",
       "    </tr>\n",
       "    <tr>\n",
       "      <td>100</td>\n",
       "      <td>0.559900</td>\n",
       "    </tr>\n",
       "    <tr>\n",
       "      <td>110</td>\n",
       "      <td>0.493000</td>\n",
       "    </tr>\n",
       "    <tr>\n",
       "      <td>120</td>\n",
       "      <td>0.541800</td>\n",
       "    </tr>\n",
       "    <tr>\n",
       "      <td>130</td>\n",
       "      <td>0.484300</td>\n",
       "    </tr>\n",
       "    <tr>\n",
       "      <td>140</td>\n",
       "      <td>0.694900</td>\n",
       "    </tr>\n",
       "  </tbody>\n",
       "</table><p>"
      ],
      "text/plain": [
       "<IPython.core.display.HTML object>"
      ]
     },
     "metadata": {},
     "output_type": "display_data"
    },
    {
     "name": "stderr",
     "output_type": "stream",
     "text": [
      "/home/ivanppp/Training/.venv/lib/python3.13/site-packages/torch/utils/data/dataloader.py:668: UserWarning: 'pin_memory' argument is set as true but no accelerator is found, then device pinned memory won't be used.\n",
      "  warnings.warn(warn_msg)\n",
      "/home/ivanppp/Training/.venv/lib/python3.13/site-packages/torch/utils/data/dataloader.py:668: UserWarning: 'pin_memory' argument is set as true but no accelerator is found, then device pinned memory won't be used.\n",
      "  warnings.warn(warn_msg)\n",
      "/home/ivanppp/Training/.venv/lib/python3.13/site-packages/torch/utils/data/dataloader.py:668: UserWarning: 'pin_memory' argument is set as true but no accelerator is found, then device pinned memory won't be used.\n",
      "  warnings.warn(warn_msg)\n",
      "/home/ivanppp/Training/.venv/lib/python3.13/site-packages/torch/utils/data/dataloader.py:668: UserWarning: 'pin_memory' argument is set as true but no accelerator is found, then device pinned memory won't be used.\n",
      "  warnings.warn(warn_msg)\n"
     ]
    },
    {
     "name": "stdout",
     "output_type": "stream",
     "text": [
      "==================================================\n",
      "Training complete!\n"
     ]
    }
   ],
   "source": [
    "import os\n",
    "from transformers import TrainerCallback\n",
    "\n",
    "# Custom callback to track training metrics\n",
    "class MetricsCallback(TrainerCallback):\n",
    "    def __init__(self):\n",
    "        self.training_loss = []\n",
    "        self.steps = []\n",
    "    \n",
    "    def on_log(self, args, state, control, logs=None, **kwargs):\n",
    "        if logs and 'loss' in logs:\n",
    "            self.training_loss.append(logs['loss'])\n",
    "            self.steps.append(state.global_step)\n",
    "\n",
    "# Create output directory\n",
    "output_dir = \"./ghana-finetuned-model\"\n",
    "os.makedirs(output_dir, exist_ok=True)\n",
    "\n",
    "# Training arguments\n",
    "training_args = TrainingArguments(\n",
    "    output_dir=output_dir,\n",
    "    num_train_epochs=5,\n",
    "    per_device_train_batch_size=4,\n",
    "    learning_rate=1e-3,\n",
    "    logging_steps=10,\n",
    "    save_strategy=\"epoch\",\n",
    "    report_to=\"none\",  # Disable wandb/tensorboard\n",
    "    remove_unused_columns=False,\n",
    ")\n",
    "\n",
    "# Create metrics callback\n",
    "metrics_callback = MetricsCallback()\n",
    "\n",
    "# Create trainer\n",
    "trainer = Trainer(\n",
    "    model=model,\n",
    "    args=training_args,\n",
    "    train_dataset=processed_dataset[\"train\"],\n",
    "    tokenizer=tokenizer,\n",
    "    callbacks=[metrics_callback],\n",
    ")\n",
    "\n",
    "print(\"Starting training...\")\n",
    "print(\"=\" * 50)\n",
    "trainer.train()\n",
    "print(\"=\" * 50)\n",
    "print(\"Training complete!\")\n",
    "\n",
    "# Store metrics for plotting\n",
    "training_history = {\n",
    "    'steps': metrics_callback.steps,\n",
    "    'loss': metrics_callback.training_loss\n",
    "}"
   ]
  },
  {
   "cell_type": "markdown",
   "id": "6e7aaa59",
   "metadata": {},
   "source": [
    "# Visualize Training Performance\n",
    "Plot the training loss over time to see how the model improved"
   ]
  },
  {
   "cell_type": "code",
   "execution_count": null,
   "id": "e89998f1",
   "metadata": {},
   "outputs": [],
   "source": [
    "!pip install matplotlib"
   ]
  },
  {
   "cell_type": "code",
   "execution_count": 89,
   "id": "e9a43c83",
   "metadata": {},
   "outputs": [
    {
     "data": {
      "image/png": "[encoded data removed]",
      "text/plain": [
       "<Figure size 1200x600 with 2 Axes>"
      ]
     },
     "metadata": {},
     "output_type": "display_data"
    },
    {
     "name": "stdout",
     "output_type": "stream",
     "text": [
      "\n",
      "==================================================\n",
      "TRAINING PERFORMANCE SUMMARY\n",
      "==================================================\n",
      "Initial Loss: 4.6103\n",
      "Final Loss: 0.6949\n",
      "Loss Reduction: 3.9154\n",
      "Improvement: 84.9%\n",
      "Total Training Steps: 140\n",
      "==================================================\n"
     ]
    }
   ],
   "source": [
    "import matplotlib.pyplot as plt\n",
    "\n",
    "# Create figure with better styling\n",
    "plt.figure(figsize=(12, 6))\n",
    "\n",
    "# Plot training loss\n",
    "plt.subplot(1, 2, 1)\n",
    "plt.plot(training_history['steps'], training_history['loss'], \n",
    "         marker='o', linewidth=2, markersize=6, color='#2E86AB')\n",
    "plt.xlabel('Training Steps', fontsize=12, fontweight='bold')\n",
    "plt.ylabel('Loss', fontsize=12, fontweight='bold')\n",
    "plt.title('Training Loss Over Time', fontsize=14, fontweight='bold')\n",
    "plt.grid(True, alpha=0.3)\n",
    "plt.tight_layout()\n",
    "\n",
    "# Plot loss improvement (percentage decrease from first loss)\n",
    "plt.subplot(1, 2, 2)\n",
    "if len(training_history['loss']) > 0:\n",
    "    initial_loss = training_history['loss'][0]\n",
    "    loss_reduction = [(initial_loss - loss) / initial_loss * 100 \n",
    "                      for loss in training_history['loss']]\n",
    "    plt.plot(training_history['steps'], loss_reduction, \n",
    "             marker='s', linewidth=2, markersize=6, color='#A23B72')\n",
    "    plt.xlabel('Training Steps', fontsize=12, fontweight='bold')\n",
    "    plt.ylabel('Loss Reduction (%)', fontsize=12, fontweight='bold')\n",
    "    plt.title('Loss Improvement from Start', fontsize=14, fontweight='bold')\n",
    "    plt.grid(True, alpha=0.3)\n",
    "    plt.axhline(y=0, color='gray', linestyle='--', alpha=0.5)\n",
    "\n",
    "plt.tight_layout()\n",
    "plt.savefig('training_performance.png', dpi=150, bbox_inches='tight')\n",
    "plt.show()\n",
    "\n",
    "# Print summary statistics\n",
    "print(\"\\n\" + \"=\" * 50)\n",
    "print(\"TRAINING PERFORMANCE SUMMARY\")\n",
    "print(\"=\" * 50)\n",
    "print(f\"Initial Loss: {training_history['loss'][0]:.4f}\")\n",
    "print(f\"Final Loss: {training_history['loss'][-1]:.4f}\")\n",
    "print(f\"Loss Reduction: {(training_history['loss'][0] - training_history['loss'][-1]):.4f}\")\n",
    "print(f\"Improvement: {((training_history['loss'][0] - training_history['loss'][-1]) / training_history['loss'][0] * 100):.1f}%\")\n",
    "print(f\"Total Training Steps: {training_history['steps'][-1]}\")\n",
    "print(\"=\" * 50)"
   ]
  },
  {
   "cell_type": "markdown",
   "id": "75ff8051",
   "metadata": {},
   "source": [
    "# Save the Fine-tuned Model"
   ]
  },
  {
   "cell_type": "code",
   "execution_count": null,
   "id": "ad17c1f3",
   "metadata": {},
   "outputs": [],
   "source": [
    "# Save the model\n",
    "model.save_pretrained(FINETUNED_MODEL_DIR)\n",
    "tokenizer.save_pretrained(FINETUNED_MODEL_DIR)\n",
    "print(f\"Model saved to {FINETUNED_MODEL_DIR}\")"
   ]
  },
  {
   "cell_type": "markdown",
   "id": "81da7b9a",
   "metadata": {},
   "source": [
    "# Test the Fine-tuned Model\n",
    "Compare the original model with the fine-tuned model"
   ]
  },
  {
   "cell_type": "code",
   "execution_count": null,
   "id": "fefc68ea",
   "metadata": {},
   "outputs": [],
   "source": [
    "from peft import PeftModel\n",
    "import torch\n",
    "\n",
    "def test_models():\n",
    "    \"\"\"Test and compare both models\"\"\"\n",
    "    print(\"=== TESTING ORIGINAL vs FINE-TUNED MODEL ===\")\n",
    "    print()\n",
    "    \n",
    "    # Load tokenizer and models\n",
    "    test_tokenizer = AutoTokenizer.from_pretrained(MODEL_NAME)\n",
    "    original_model = AutoModelForSeq2SeqLM.from_pretrained(MODEL_NAME)\n",
    "    \n",
    "    if os.path.exists(FINETUNED_MODEL_DIR):\n",
    "        base_model = AutoModelForSeq2SeqLM.from_pretrained(MODEL_NAME)\n",
    "        finetuned_model = PeftModel.from_pretrained(base_model, FINETUNED_MODEL_DIR)\n",
    "        finetuned_model.eval()\n",
    "    else:\n",
    "        print(\"Fine-tuned model not found!\")\n",
    "        return\n",
    "    \n",
    "    # Test questions\n",
    "    test_questions = [\n",
    "        \"When did Ghana gain independence?\",\n",
    "        \"What is the capital of Ghana?\",\n",
    "        \"Where is Ghana located?\",\n",
    "        \"Who colonized Ghana?\",\n",
    "        \"What was Ghana formerly called?\"\n",
    "    ]\n",
    "    \n",
    "    correct_original = 0\n",
    "    correct_finetuned = 0\n",
    "    \n",
    "    for question in test_questions:\n",
    "        print(f\"\\nQuestion: {question}\")\n",
    "        \n",
    "        # Test original model\n",
    "        inputs = test_tokenizer(question, return_tensors=\"pt\")\n",
    "        with torch.no_grad():\n",
    "            outputs_orig = original_model.generate(**inputs, max_length=50)\n",
    "            original_answer = test_tokenizer.decode(outputs_orig[0], skip_special_tokens=True)\n",
    "        \n",
    "        # Test fine-tuned model\n",
    "        with torch.no_grad():\n",
    "            outputs_ft = finetuned_model.generate(**inputs, max_length=50)\n",
    "            finetuned_answer = test_tokenizer.decode(outputs_ft[0], skip_special_tokens=True)\n",
    "        \n",
    "        print(f\"  Original Model: {original_answer}\")\n",
    "        print(f\"  Fine-tuned Model: {finetuned_answer}\")\n",
    "        \n",
    "        # Check correctness (simple string matching)\n",
    "        expected_answers = {\n",
    "            \"When did Ghana gain independence?\": [\"1957\", \"March 6\"],\n",
    "            \"What is the capital of Ghana?\": [\"Accra\"],\n",
    "            \"Where is Ghana located?\": [\"West Africa\", \"Africa\"],\n",
    "            \"Who colonized Ghana?\": [\"Britain\", \"British\"],\n",
    "            \"What was Ghana formerly called?\": [\"Gold Coast\"]\n",
    "        }\n",
    "        \n",
    "        expected = expected_answers.get(question, [])\n",
    "        if any(exp.lower() in original_answer.lower() for exp in expected):\n",
    "            correct_original += 1\n",
    "        if any(exp.lower() in finetuned_answer.lower() for exp in expected):\n",
    "            correct_finetuned += 1\n",
    "    \n",
    "    print(\"\\n\" + \"=\" * 50)\n",
    "    print(f\"Original Model Accuracy: {correct_original}/{len(test_questions)} = {correct_original/len(test_questions)*100:.1f}%\")\n",
    "    print(f\"Fine-tuned Model Accuracy: {correct_finetuned}/{len(test_questions)} = {correct_finetuned/len(test_questions)*100:.1f}%\")\n",
    "    print(\"=\" * 50)\n",
    "\n",
    "# Run the test\n",
    "test_models()"
   ]
  },
  {
   "cell_type": "code",
   "execution_count": null,
   "id": "c5f6c6ac",
   "metadata": {},
   "outputs": [],
   "source": []
  }
 ],
 "metadata": {
  "kernelspec": {
   "display_name": ".venv",
   "language": "python",
   "name": "python3"
  },
  "language_info": {
   "codemirror_mode": {
    "name": "ipython",
    "version": 3
   },
   "file_extension": ".py",
   "mimetype": "text/x-python",
   "name": "python",
   "nbconvert_exporter": "python",
   "pygments_lexer": "ipython3",
   "version": "3.13.7"
  }
 },
 "nbformat": 4,
 "nbformat_minor": 5
}
