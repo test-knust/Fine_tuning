{
 "cells": [
  {
   "cell_type": "markdown",
   "id": "02193a50",
   "metadata": {},
   "source": [
    "# Fine-tuning with Tokenized Dataset\n",
    "This notebook uses the tokenized_dataset approach where questions and answers are combined"
   ]
  },
  {
   "cell_type": "code",
   "execution_count": 1,
   "id": "afc64613",
   "metadata": {},
   "outputs": [
    {
     "name": "stderr",
     "output_type": "stream",
     "text": [
      "/home/ivanppp/Training/.venv/lib/python3.13/site-packages/tqdm/auto.py:21: TqdmWarning: IProgress not found. Please update jupyter and ipywidgets. See https://ipywidgets.readthedocs.io/en/stable/user_install.html\n",
      "  from .autonotebook import tqdm as notebook_tqdm\n"
     ]
    }
   ],
   "source": [
    "import pandas as pd\n",
    "import datasets\n",
    "from pprint import pprint\n",
    "from transformers import AutoTokenizer, AutoModelForSeq2SeqLM"
   ]
  },
  {
   "cell_type": "code",
   "execution_count": 2,
   "id": "38d4192c",
   "metadata": {},
   "outputs": [
    {
     "name": "stdout",
     "output_type": "stream",
     "text": [
      "Loaded tokenizer: google/flan-t5-small\n"
     ]
    }
   ],
   "source": [
    "MODEL_NAME = \"google/flan-t5-small\"\n",
    "FINETUNED_MODEL_DIR = \"./ghana-finetuned-model-v2\"\n",
    "\n",
    "tokenizer = AutoTokenizer.from_pretrained(MODEL_NAME)\n",
    "tokenizer.pad_token = tokenizer.eos_token\n",
    "print(f\"Loaded tokenizer: {MODEL_NAME}\")"
   ]
  },
  {
   "cell_type": "markdown",
   "id": "65579a58",
   "metadata": {},
   "source": [
    "## Load and Tokenize Dataset\n",
    "We'll load the Ghana Q&A data and tokenize it with questions and answers properly separated"
   ]
  },
  {
   "cell_type": "code",
   "execution_count": 3,
   "id": "68f7a4cf",
   "metadata": {},
   "outputs": [
    {
     "name": "stdout",
     "output_type": "stream",
     "text": [
      "Loading dataset...\n",
      "Dataset loaded: 111 examples\n",
      "\n",
      "Tokenizing dataset...\n",
      "Dataset loaded: 111 examples\n",
      "\n",
      "Tokenizing dataset...\n"
     ]
    },
    {
     "name": "stderr",
     "output_type": "stream",
     "text": [
      "Map: 100%|██████████| 111/111 [00:00<00:00, 3881.02 examples/s]"
     ]
    },
    {
     "name": "stdout",
     "output_type": "stream",
     "text": [
      "Tokenization complete!\n",
      "\n",
      "Dataset structure:\n",
      "DatasetDict({\n",
      "    train: Dataset({\n",
      "        features: ['input_ids', 'attention_mask', 'labels'],\n",
      "        num_rows: 111\n",
      "    })\n",
      "})\n",
      "\n",
      "Sample data:\n",
      "Input IDs length: 128\n",
      "Labels length: 128\n"
     ]
    },
    {
     "name": "stderr",
     "output_type": "stream",
     "text": [
      "\n"
     ]
    }
   ],
   "source": [
    "def tokenize_function(examples):\n",
    "    \"\"\"Tokenize with proper input/label separation for Seq2Seq\"\"\"\n",
    "    # Tokenize questions as inputs\n",
    "    model_inputs = tokenizer(\n",
    "        examples[\"question\"],\n",
    "        max_length=128,\n",
    "        truncation=True,\n",
    "        padding=\"max_length\"\n",
    "    )\n",
    "    \n",
    "    # Tokenize answers as labels\n",
    "    labels = tokenizer(\n",
    "        examples[\"answer\"],\n",
    "        max_length=128,\n",
    "        truncation=True,\n",
    "        padding=\"max_length\"\n",
    "    )\n",
    "    \n",
    "    # Replace padding token id with -100 so it's ignored in loss calculation\n",
    "    labels[\"input_ids\"] = [\n",
    "        [(label if label != tokenizer.pad_token_id else -100) for label in labels_example]\n",
    "        for labels_example in labels[\"input_ids\"]\n",
    "    ]\n",
    "    \n",
    "    model_inputs[\"labels\"] = labels[\"input_ids\"]\n",
    "    return model_inputs\n",
    "\n",
    "print(\"Loading dataset...\")\n",
    "dataset = datasets.load_dataset(\"json\", data_files=\"test/ghana_qa.json\")\n",
    "print(f\"Dataset loaded: {len(dataset['train'])} examples\")\n",
    "\n",
    "print(\"\\nTokenizing dataset...\")\n",
    "tokenized_dataset = dataset.map(tokenize_function, batched=True, remove_columns=dataset[\"train\"].column_names)\n",
    "print(f\"Tokenization complete!\")\n",
    "print(f\"\\nDataset structure:\")\n",
    "print(tokenized_dataset)\n",
    "print(f\"\\nSample data:\")\n",
    "print(f\"Input IDs length: {len(tokenized_dataset['train'][0]['input_ids'])}\")\n",
    "print(f\"Labels length: {len(tokenized_dataset['train'][0]['labels'])}\")"
   ]
  },
  {
   "cell_type": "markdown",
   "id": "334c6170",
   "metadata": {},
   "source": [
    "## Prepare Model with LoRA\n",
    "Load the base model and configure it for efficient fine-tuning"
   ]
  },
  {
   "cell_type": "code",
   "execution_count": 4,
   "id": "4daee0d2",
   "metadata": {},
   "outputs": [
    {
     "name": "stdout",
     "output_type": "stream",
     "text": [
      "trainable params: 1,376,256 || all params: 78,337,408 || trainable%: 1.7568\n",
      "\n",
      "Model prepared for fine-tuning!\n"
     ]
    }
   ],
   "source": [
    "from peft import LoraConfig, get_peft_model, TaskType\n",
    "\n",
    "# Load the base model\n",
    "model = AutoModelForSeq2SeqLM.from_pretrained(MODEL_NAME)\n",
    "\n",
    "# Configure LoRA\n",
    "lora_config = LoraConfig(\n",
    "    r=16,  # Rank of the low-rank matrices\n",
    "    lora_alpha=32,  # Scaling factor\n",
    "    target_modules=[\"q\", \"v\", \"k\", \"o\"],  # Which layers to apply LoRA to\n",
    "    lora_dropout=0.05,\n",
    "    bias=\"none\",\n",
    "    task_type=TaskType.SEQ_2_SEQ_LM\n",
    ")\n",
    "\n",
    "# Apply LoRA to the model\n",
    "model = get_peft_model(model, lora_config)\n",
    "model.print_trainable_parameters()\n",
    "print(\"\\nModel prepared for fine-tuning!\")"
   ]
  },
  {
   "cell_type": "markdown",
   "id": "84830766",
   "metadata": {},
   "source": [
    "## Train the Model\n",
    "Configure training arguments and start fine-tuning using tokenized_dataset"
   ]
  },
  {
   "cell_type": "code",
   "execution_count": 5,
   "id": "a65800e9",
   "metadata": {},
   "outputs": [
    {
     "name": "stderr",
     "output_type": "stream",
     "text": [
      "/tmp/ipykernel_262081/3884136013.py:34: FutureWarning: `tokenizer` is deprecated and will be removed in version 5.0.0 for `Trainer.__init__`. Use `processing_class` instead.\n",
      "  trainer = Trainer(\n",
      "The tokenizer has new PAD/BOS/EOS tokens that differ from the model config and generation config. The model config and generation config were aligned accordingly, being updated with the tokenizer's values. Updated tokens: {'pad_token_id': 1}.\n"
     ]
    },
    {
     "name": "stdout",
     "output_type": "stream",
     "text": [
      "Starting training with tokenized_dataset...\n",
      "==================================================\n"
     ]
    },
    {
     "name": "stderr",
     "output_type": "stream",
     "text": [
      "/home/ivanppp/Training/.venv/lib/python3.13/site-packages/torch/utils/data/dataloader.py:668: UserWarning: 'pin_memory' argument is set as true but no accelerator is found, then device pinned memory won't be used.\n",
      "  warnings.warn(warn_msg)\n"
     ]
    },
    {
     "data": {
      "text/html": [
       "\n",
       "    <div>\n",
       "      \n",
       "      <progress value='140' max='140' style='width:300px; height:20px; vertical-align: middle;'></progress>\n",
       "      [140/140 02:15, Epoch 5/5]\n",
       "    </div>\n",
       "    <table border=\"1\" class=\"dataframe\">\n",
       "  <thead>\n",
       " <tr style=\"text-align: left;\">\n",
       "      <th>Step</th>\n",
       "      <th>Training Loss</th>\n",
       "    </tr>\n",
       "  </thead>\n",
       "  <tbody>\n",
       "    <tr>\n",
       "      <td>10</td>\n",
       "      <td>4.590500</td>\n",
       "    </tr>\n",
       "    <tr>\n",
       "      <td>20</td>\n",
       "      <td>3.554900</td>\n",
       "    </tr>\n",
       "    <tr>\n",
       "      <td>30</td>\n",
       "      <td>2.637800</td>\n",
       "    </tr>\n",
       "    <tr>\n",
       "      <td>40</td>\n",
       "      <td>1.747900</td>\n",
       "    </tr>\n",
       "    <tr>\n",
       "      <td>50</td>\n",
       "      <td>0.944300</td>\n",
       "    </tr>\n",
       "    <tr>\n",
       "      <td>60</td>\n",
       "      <td>0.919100</td>\n",
       "    </tr>\n",
       "    <tr>\n",
       "      <td>70</td>\n",
       "      <td>1.014100</td>\n",
       "    </tr>\n",
       "    <tr>\n",
       "      <td>80</td>\n",
       "      <td>0.628000</td>\n",
       "    </tr>\n",
       "    <tr>\n",
       "      <td>90</td>\n",
       "      <td>0.708400</td>\n",
       "    </tr>\n",
       "    <tr>\n",
       "      <td>100</td>\n",
       "      <td>0.572800</td>\n",
       "    </tr>\n",
       "    <tr>\n",
       "      <td>110</td>\n",
       "      <td>0.517700</td>\n",
       "    </tr>\n",
       "    <tr>\n",
       "      <td>120</td>\n",
       "      <td>0.522300</td>\n",
       "    </tr>\n",
       "    <tr>\n",
       "      <td>130</td>\n",
       "      <td>0.501500</td>\n",
       "    </tr>\n",
       "    <tr>\n",
       "      <td>140</td>\n",
       "      <td>0.682800</td>\n",
       "    </tr>\n",
       "  </tbody>\n",
       "</table><p>"
      ],
      "text/plain": [
       "<IPython.core.display.HTML object>"
      ]
     },
     "metadata": {},
     "output_type": "display_data"
    },
    {
     "name": "stderr",
     "output_type": "stream",
     "text": [
      "/home/ivanppp/Training/.venv/lib/python3.13/site-packages/torch/utils/data/dataloader.py:668: UserWarning: 'pin_memory' argument is set as true but no accelerator is found, then device pinned memory won't be used.\n",
      "  warnings.warn(warn_msg)\n",
      "/home/ivanppp/Training/.venv/lib/python3.13/site-packages/torch/utils/data/dataloader.py:668: UserWarning: 'pin_memory' argument is set as true but no accelerator is found, then device pinned memory won't be used.\n",
      "  warnings.warn(warn_msg)\n",
      "/home/ivanppp/Training/.venv/lib/python3.13/site-packages/torch/utils/data/dataloader.py:668: UserWarning: 'pin_memory' argument is set as true but no accelerator is found, then device pinned memory won't be used.\n",
      "  warnings.warn(warn_msg)\n",
      "/home/ivanppp/Training/.venv/lib/python3.13/site-packages/torch/utils/data/dataloader.py:668: UserWarning: 'pin_memory' argument is set as true but no accelerator is found, then device pinned memory won't be used.\n",
      "  warnings.warn(warn_msg)\n",
      "/home/ivanppp/Training/.venv/lib/python3.13/site-packages/torch/utils/data/dataloader.py:668: UserWarning: 'pin_memory' argument is set as true but no accelerator is found, then device pinned memory won't be used.\n",
      "  warnings.warn(warn_msg)\n",
      "/home/ivanppp/Training/.venv/lib/python3.13/site-packages/torch/utils/data/dataloader.py:668: UserWarning: 'pin_memory' argument is set as true but no accelerator is found, then device pinned memory won't be used.\n",
      "  warnings.warn(warn_msg)\n",
      "/home/ivanppp/Training/.venv/lib/python3.13/site-packages/torch/utils/data/dataloader.py:668: UserWarning: 'pin_memory' argument is set as true but no accelerator is found, then device pinned memory won't be used.\n",
      "  warnings.warn(warn_msg)\n"
     ]
    },
    {
     "name": "stdout",
     "output_type": "stream",
     "text": [
      "==================================================\n",
      "Training complete!\n"
     ]
    }
   ],
   "source": [
    "import os\n",
    "from transformers import TrainingArguments, Trainer, TrainerCallback\n",
    "\n",
    "# Custom callback to track training metrics\n",
    "class MetricsCallback(TrainerCallback):\n",
    "    def __init__(self):\n",
    "        self.training_loss = []\n",
    "        self.steps = []\n",
    "    \n",
    "    def on_log(self, args, state, control, logs=None, **kwargs):\n",
    "        if logs and 'loss' in logs:\n",
    "            self.training_loss.append(logs['loss'])\n",
    "            self.steps.append(state.global_step)\n",
    "\n",
    "# Create output directory\n",
    "os.makedirs(FINETUNED_MODEL_DIR, exist_ok=True)\n",
    "\n",
    "# Training arguments\n",
    "training_args = TrainingArguments(\n",
    "    output_dir=FINETUNED_MODEL_DIR,\n",
    "    num_train_epochs=5,\n",
    "    per_device_train_batch_size=4,\n",
    "    learning_rate=1e-3,\n",
    "    logging_steps=10,\n",
    "    save_strategy=\"epoch\",\n",
    "    report_to=\"none\",\n",
    "    remove_unused_columns=False,\n",
    ")\n",
    "\n",
    "# Create metrics callback\n",
    "metrics_callback = MetricsCallback()\n",
    "\n",
    "# Create trainer with tokenized_dataset\n",
    "trainer = Trainer(\n",
    "    model=model,\n",
    "    args=training_args,\n",
    "    train_dataset=tokenized_dataset[\"train\"],  # Using tokenized_dataset!\n",
    "    tokenizer=tokenizer,\n",
    "    callbacks=[metrics_callback],\n",
    ")\n",
    "\n",
    "print(\"Starting training with tokenized_dataset...\")\n",
    "print(\"=\" * 50)\n",
    "trainer.train()\n",
    "print(\"=\" * 50)\n",
    "print(\"Training complete!\")\n",
    "\n",
    "# Store metrics for plotting\n",
    "training_history = {\n",
    "    'steps': metrics_callback.steps,\n",
    "    'loss': metrics_callback.training_loss\n",
    "}"
   ]
  },
  {
   "cell_type": "markdown",
   "id": "6264fafc",
   "metadata": {},
   "source": [
    "## Visualize Training Performance"
   ]
  },
  {
   "cell_type": "code",
   "execution_count": 6,
   "id": "7aa6a8e1",
   "metadata": {},
   "outputs": [
    {
     "data": {
      "image/png": "[encoded data removed]",
      "text/plain": [
       "<Figure size 1200x600 with 2 Axes>"
      ]
     },
     "metadata": {},
     "output_type": "display_data"
    },
    {
     "name": "stdout",
     "output_type": "stream",
     "text": [
      "\n",
      "==================================================\n",
      "TRAINING PERFORMANCE SUMMARY (tokenized_dataset)\n",
      "==================================================\n",
      "Initial Loss: 4.5905\n",
      "Final Loss: 0.6828\n",
      "Loss Reduction: 3.9077\n",
      "Improvement: 85.1%\n",
      "Total Training Steps: 140\n",
      "==================================================\n"
     ]
    }
   ],
   "source": [
    "import matplotlib.pyplot as plt\n",
    "\n",
    "# Create figure with better styling\n",
    "plt.figure(figsize=(12, 6))\n",
    "\n",
    "# Plot training loss\n",
    "plt.subplot(1, 2, 1)\n",
    "plt.plot(training_history['steps'], training_history['loss'], \n",
    "         marker='o', linewidth=2, markersize=6, color='#2E86AB')\n",
    "plt.xlabel('Training Steps', fontsize=12, fontweight='bold')\n",
    "plt.ylabel('Loss', fontsize=12, fontweight='bold')\n",
    "plt.title('Training Loss Over Time (tokenized_dataset)', fontsize=14, fontweight='bold')\n",
    "plt.grid(True, alpha=0.3)\n",
    "\n",
    "# Plot loss improvement\n",
    "plt.subplot(1, 2, 2)\n",
    "if len(training_history['loss']) > 0:\n",
    "    initial_loss = training_history['loss'][0]\n",
    "    loss_reduction = [(initial_loss - loss) / initial_loss * 100 \n",
    "                      for loss in training_history['loss']]\n",
    "    plt.plot(training_history['steps'], loss_reduction, \n",
    "             marker='s', linewidth=2, markersize=6, color='#A23B72')\n",
    "    plt.xlabel('Training Steps', fontsize=12, fontweight='bold')\n",
    "    plt.ylabel('Loss Reduction (%)', fontsize=12, fontweight='bold')\n",
    "    plt.title('Loss Improvement from Start', fontsize=14, fontweight='bold')\n",
    "    plt.grid(True, alpha=0.3)\n",
    "    plt.axhline(y=0, color='gray', linestyle='--', alpha=0.5)\n",
    "\n",
    "plt.tight_layout()\n",
    "plt.savefig('training_performance_tokenized.png', dpi=150, bbox_inches='tight')\n",
    "plt.show()\n",
    "\n",
    "# Print summary statistics\n",
    "print(\"\\n\" + \"=\" * 50)\n",
    "print(\"TRAINING PERFORMANCE SUMMARY (tokenized_dataset)\")\n",
    "print(\"=\" * 50)\n",
    "print(f\"Initial Loss: {training_history['loss'][0]:.4f}\")\n",
    "print(f\"Final Loss: {training_history['loss'][-1]:.4f}\")\n",
    "print(f\"Loss Reduction: {(training_history['loss'][0] - training_history['loss'][-1]):.4f}\")\n",
    "print(f\"Improvement: {((training_history['loss'][0] - training_history['loss'][-1]) / training_history['loss'][0] * 100):.1f}%\")\n",
    "print(f\"Total Training Steps: {training_history['steps'][-1]}\")\n",
    "print(\"=\" * 50)"
   ]
  },
  {
   "cell_type": "markdown",
   "id": "2cd7b646",
   "metadata": {},
   "source": [
    "## Save the Model"
   ]
  },
  {
   "cell_type": "code",
   "execution_count": 7,
   "id": "341f89e9",
   "metadata": {},
   "outputs": [
    {
     "name": "stdout",
     "output_type": "stream",
     "text": [
      "Model saved to ./ghana-finetuned-model-v2\n"
     ]
    }
   ],
   "source": [
    "# Save the model\n",
    "model.save_pretrained(FINETUNED_MODEL_DIR)\n",
    "tokenizer.save_pretrained(FINETUNED_MODEL_DIR)\n",
    "print(f\"Model saved to {FINETUNED_MODEL_DIR}\")"
   ]
  },
  {
   "cell_type": "markdown",
   "id": "c8872b80",
   "metadata": {},
   "source": [
    "## Test the Fine-tuned Model\n",
    "Compare original vs fine-tuned model performance"
   ]
  },
  {
   "cell_type": "code",
   "execution_count": 8,
   "id": "b4f40d55",
   "metadata": {},
   "outputs": [
    {
     "name": "stdout",
     "output_type": "stream",
     "text": [
      "=== TESTING ORIGINAL vs FINE-TUNED MODEL (tokenized_dataset) ===\n",
      "\n",
      "\n",
      "Question: When did Ghana gain independence?\n",
      "\n",
      "Question: When did Ghana gain independence?\n",
      "  Original Model: 1897\n",
      "  Fine-tuned Model: March 6, 1957, 1957, was 1957, and was a British colonial colonial period. Gold Coast was Britain's first colonial colonial period. Gold Coast was Britain's first colonial period.\n",
      "\n",
      "Question: What is the capital of Ghana?\n",
      "  Original Model: 1897\n",
      "  Fine-tuned Model: March 6, 1957, 1957, was 1957, and was a British colonial colonial period. Gold Coast was Britain's first colonial colonial period. Gold Coast was Britain's first colonial period.\n",
      "\n",
      "Question: What is the capital of Ghana?\n",
      "  Original Model: nasa\n",
      "  Fine-tuned Model: Accra, Accra, is Accra's capital, Accra. Accra is the capital of Ghana.\n",
      "\n",
      "Question: Where is Ghana located?\n",
      "  Original Model: nasa\n",
      "  Fine-tuned Model: West Africa\n",
      "\n",
      "Question: Who colonized Ghana?\n",
      "  Original Model: nasa\n",
      "  Fine-tuned Model: Accra, Accra, is Accra's capital, Accra. Accra is the capital of Ghana.\n",
      "\n",
      "Question: Where is Ghana located?\n",
      "  Original Model: nasa\n",
      "  Fine-tuned Model: West Africa\n",
      "\n",
      "Question: Who colonized Ghana?\n",
      "  Original Model: eliota\n",
      "  Fine-tuned Model: British colonial colonial colonial colonial colonial colonial colonial colonial colonial colonial colonial colonial colonial colonial colonial colonial\n",
      "\n",
      "Question: What was Ghana formerly called?\n",
      "  Original Model: sacramento\n",
      "  Fine-tuned Model: Gold Coast\n",
      "\n",
      "==================================================\n",
      "Original Model Accuracy: 0/5 = 0.0%\n",
      "Fine-tuned Model Accuracy: 5/5 = 100.0%\n",
      "==================================================\n",
      "  Original Model: eliota\n",
      "  Fine-tuned Model: British colonial colonial colonial colonial colonial colonial colonial colonial colonial colonial colonial colonial colonial colonial colonial colonial\n",
      "\n",
      "Question: What was Ghana formerly called?\n",
      "  Original Model: sacramento\n",
      "  Fine-tuned Model: Gold Coast\n",
      "\n",
      "==================================================\n",
      "Original Model Accuracy: 0/5 = 0.0%\n",
      "Fine-tuned Model Accuracy: 5/5 = 100.0%\n",
      "==================================================\n"
     ]
    }
   ],
   "source": [
    "from peft import PeftModel\n",
    "import torch\n",
    "\n",
    "def test_models():\n",
    "    \"\"\"Test and compare both models\"\"\"\n",
    "    print(\"=== TESTING ORIGINAL vs FINE-TUNED MODEL (tokenized_dataset) ===\")\n",
    "    print()\n",
    "    \n",
    "    # Load tokenizer and models\n",
    "    test_tokenizer = AutoTokenizer.from_pretrained(MODEL_NAME)\n",
    "    original_model = AutoModelForSeq2SeqLM.from_pretrained(MODEL_NAME)\n",
    "    \n",
    "    if os.path.exists(FINETUNED_MODEL_DIR):\n",
    "        base_model = AutoModelForSeq2SeqLM.from_pretrained(MODEL_NAME)\n",
    "        finetuned_model = PeftModel.from_pretrained(base_model, FINETUNED_MODEL_DIR)\n",
    "        finetuned_model.eval()\n",
    "    else:\n",
    "        print(\"Fine-tuned model not found!\")\n",
    "        return\n",
    "    \n",
    "    # Test questions\n",
    "    test_questions = [\n",
    "        \"When did Ghana gain independence?\",\n",
    "        \"What is the capital of Ghana?\",\n",
    "        \"Where is Ghana located?\",\n",
    "        \"Who colonized Ghana?\",\n",
    "        \"What was Ghana formerly called?\"\n",
    "    ]\n",
    "    \n",
    "    correct_original = 0\n",
    "    correct_finetuned = 0\n",
    "    \n",
    "    for question in test_questions:\n",
    "        print(f\"\\nQuestion: {question}\")\n",
    "        \n",
    "        # Test original model\n",
    "        inputs = test_tokenizer(question, return_tensors=\"pt\")\n",
    "        with torch.no_grad():\n",
    "            outputs_orig = original_model.generate(**inputs, max_length=50)\n",
    "            original_answer = test_tokenizer.decode(outputs_orig[0], skip_special_tokens=True)\n",
    "        \n",
    "        # Test fine-tuned model\n",
    "        with torch.no_grad():\n",
    "            outputs_ft = finetuned_model.generate(**inputs, max_length=50)\n",
    "            finetuned_answer = test_tokenizer.decode(outputs_ft[0], skip_special_tokens=True)\n",
    "        \n",
    "        print(f\"  Original Model: {original_answer}\")\n",
    "        print(f\"  Fine-tuned Model: {finetuned_answer}\")\n",
    "        \n",
    "        # Check correctness\n",
    "        expected_answers = {\n",
    "            \"When did Ghana gain independence?\": [\"1957\", \"March 6\"],\n",
    "            \"What is the capital of Ghana?\": [\"Accra\"],\n",
    "            \"Where is Ghana located?\": [\"West Africa\", \"Africa\"],\n",
    "            \"Who colonized Ghana?\": [\"Britain\", \"British\"],\n",
    "            \"What was Ghana formerly called?\": [\"Gold Coast\"]\n",
    "        }\n",
    "        \n",
    "        expected = expected_answers.get(question, [])\n",
    "        if any(exp.lower() in original_answer.lower() for exp in expected):\n",
    "            correct_original += 1\n",
    "        if any(exp.lower() in finetuned_answer.lower() for exp in expected):\n",
    "            correct_finetuned += 1\n",
    "    \n",
    "    print(\"\\n\" + \"=\" * 50)\n",
    "    print(f\"Original Model Accuracy: {correct_original}/{len(test_questions)} = {correct_original/len(test_questions)*100:.1f}%\")\n",
    "    print(f\"Fine-tuned Model Accuracy: {correct_finetuned}/{len(test_questions)} = {correct_finetuned/len(test_questions)*100:.1f}%\")\n",
    "    print(\"=\" * 50)\n",
    "\n",
    "# Run the test\n",
    "test_models()"
   ]
  }
 ],
 "metadata": {
  "kernelspec": {
   "display_name": ".venv",
   "language": "python",
   "name": "python3"
  },
  "language_info": {
   "codemirror_mode": {
    "name": "ipython",
    "version": 3
   },
   "file_extension": ".py",
   "mimetype": "text/x-python",
   "name": "python",
   "nbconvert_exporter": "python",
   "pygments_lexer": "ipython3",
   "version": "3.13.7"
  }
 },
 "nbformat": 4,
 "nbformat_minor": 5
}
